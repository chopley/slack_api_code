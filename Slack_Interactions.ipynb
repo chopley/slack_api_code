{
 "cells": [
  {
   "cell_type": "code",
   "execution_count": null,
   "metadata": {},
   "outputs": [],
   "source": [
    "%matplotlib inline\n",
    "\n",
    "import matplotlib\n",
    "import numpy as np\n",
    "import matplotlib.pyplot as plt\n",
    "\n",
    "import re\n",
    "from slackclient import SlackClient\n",
    "import datetime\n",
    "import pandas as pd\n",
    "import matplotlib\n",
    "\n",
    "slack_api_key = pd.read_csv('access.csv')\n",
    "slack_api_key = slack_api_key.set_index(\"name\", drop = False)"
   ]
  },
  {
   "cell_type": "code",
   "execution_count": null,
   "metadata": {},
   "outputs": [],
   "source": [
    "slack_key = slack_api_key.loc['slack',]['key']"
   ]
  },
  {
   "cell_type": "code",
   "execution_count": null,
   "metadata": {},
   "outputs": [],
   "source": [
    "sc = SlackClient(slack_key)\n",
    "def getUsers(sc):\n",
    "    users = sc.api_call(\"users.list\")\n",
    "    user_df = pd.DataFrame()\n",
    "    for user in users['members']:\n",
    "        profile = user['profile']\n",
    "        name = profile['real_name']\n",
    "        user_id = user['id']\n",
    "        df = pd.DataFrame([(profile['real_name'],user['id'])])\n",
    "        user_df = user_df.append(df)\n",
    "    user_df.columns = ['Name', 'userId']\n",
    "    return(user_df)\n",
    "\n",
    "def getChannels(sc):\n",
    "    channels = sc.api_call(\"conversations.list\",limit=1000)\n",
    "    chanels['channels'][1]\n",
    "    lst = []\n",
    "    j=0\n",
    "    for ch in chanels['channels']:\n",
    "        created_at = (datetime.datetime.fromtimestamp(int(ch['created'])).strftime('%Y-%m-%d %H:%M:%S'))\n",
    "        row = [j,created_at,ch['creator'],ch['name'],ch['previous_names'],ch['id']]\n",
    "        lst.append(row)\n",
    "        j=j+1\n",
    "    channels_df = pd.DataFrame(lst)\n",
    "    channels_df.columns = ['index','date_created','channel_creator_id','channel_name','channel_comment','channel_id']\n",
    "    return(channels_df)\n",
    "\n",
    "def getChannelMessages(sc,channel_name):\n",
    "    channels_df = getChannels(sc)\n",
    "    channels_df = channels_df.set_index(\"channel_name\", drop = False)\n",
    "    channel_id = channels_df.loc[channel_name,]['channel_id']\n",
    "    data_interactions = pd.DataFrame()\n",
    "    messages = pd.DataFrame()\n",
    "    next_cursor = 1\n",
    "    j=0\n",
    "    convo = sc.api_call(\"conversations.history\",channel=channel_id,limit=1000)\n",
    "    while(next_cursor):\n",
    "        next_cursor=0\n",
    "        for message in convo['messages']:\n",
    "            try:\n",
    "                text_message = message['text']\n",
    "                created_at = (datetime.datetime.fromtimestamp(int(float(message['ts']))).strftime('%Y-%m-%d %H:%M:%S'))\n",
    "                df_message = pd.DataFrame([(message['ts'],created_at,message['user'],text_message)])\n",
    "                messages = messages.append(df_message)\n",
    "                for v in (re.findall(r'(<@\\w+>)', text_message)):\n",
    "                    v=re.sub(\"<@\",\"\",v)\n",
    "                    v=re.sub(\">\",\"\",v)\n",
    "                    df = pd.DataFrame([(message['ts'],created_at,message['user'],v,text_message)])\n",
    "                    data_interactions = data_interactions.append(df)\n",
    "                    #print(j,'timestamp:',created_at,'sender:',message['user'],',',v)\n",
    "                j=j+1\n",
    "            except:\n",
    "                print('error')\n",
    "                #print(df_message)\n",
    "        try:\n",
    "            next_cursor = convo['response_metadata']['next_cursor']\n",
    "            convo=sc.api_call(\"conversations.history\",channel=channel_id,cursor=next_cursor,limit=1000)\n",
    "            print(next_cursor)\n",
    "        except:\n",
    "            print('No next cursor')\n",
    "            next_cursor=0\n",
    "    messages.columns = ['time_unix','time','userId','message']\n",
    "    messages['datetime'] = pd.to_datetime(messages['time'])\n",
    "    messages = messages.set_index(['datetime'])\n",
    "    data_interactions.columns = ['time_unix','time','userId_src','userId_dst','message']\n",
    "    return(data_interactions,messages)\n",
    "\n"
   ]
  },
  {
   "cell_type": "code",
   "execution_count": null,
   "metadata": {},
   "outputs": [],
   "source": [
    "user_df = getUsers(sc)\n",
    "channels_df = getChannels(sc)\n",
    "(interactions,messages) = getChannelMessages(sc,'watercooler')"
   ]
  },
  {
   "cell_type": "code",
   "execution_count": null,
   "metadata": {},
   "outputs": [],
   "source": [
    "interactions.sort_values('time_unix',ascending=False)"
   ]
  },
  {
   "cell_type": "code",
   "execution_count": null,
   "metadata": {},
   "outputs": [],
   "source": [
    "messages_labelled = pd.merge(messages,user_df,on='userId')\n",
    "interactions_labelled = pd.merge(interactions,user_df,left_on='userId_src',right_on='userId',indicator=True).merge(user_df,left_on='userId_dst',right_on='userId')"
   ]
  },
  {
   "cell_type": "code",
   "execution_count": null,
   "metadata": {},
   "outputs": [],
   "source": [
    "messages_labelled.to_csv('watercooler_messages.csv')\n",
    "interactions_labelled.to_csv('watercooler_interactions.csv')"
   ]
  },
  {
   "cell_type": "code",
   "execution_count": null,
   "metadata": {},
   "outputs": [],
   "source": [
    "messages.groupby(messages.index.dayofweek).count().plot()\n",
    "df1 = messages.groupby(messages.index.dayofweek).size()"
   ]
  },
  {
   "cell_type": "code",
   "execution_count": null,
   "metadata": {},
   "outputs": [],
   "source": []
  }
 ],
 "metadata": {
  "hide_input": false,
  "kernelspec": {
   "display_name": "Python 3",
   "language": "python",
   "name": "python3"
  }
 },
 "nbformat": 4,
 "nbformat_minor": 2
}
